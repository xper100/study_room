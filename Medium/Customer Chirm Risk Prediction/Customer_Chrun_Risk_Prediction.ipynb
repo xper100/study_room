{
 "cells": [
  {
   "cell_type": "markdown",
   "metadata": {},
   "source": [
    "# How To Predict Customer Churn Risk unsing Machine Learning In Python\n",
    "\n",
    "An in-depth tutorial using Python, pandas and scikit-learn, RFM analysis and SMOTE\n",
    "\n",
    "* RFM is a method used for analyzing customer value\n",
    "    * Recency : How recently did the customer purchase?\n",
    "    * Frequency : How frequently do they purchase?\n",
    "    * Monetary Value : How much do they spend?"
   ]
  },
  {
   "cell_type": "code",
   "execution_count": null,
   "metadata": {},
   "outputs": [],
   "source": [
    "import pandas as pd\n",
    "import numpy as np\n",
    "import matplotlib.pyplot as plt\n",
    "import seaborn as sns\n"
   ]
  }
 ],
 "metadata": {
  "kernelspec": {
   "display_name": "Python 3.9.7 ('kagglestudy')",
   "language": "python",
   "name": "python3"
  },
  "language_info": {
   "name": "python",
   "version": "3.9.7"
  },
  "orig_nbformat": 4,
  "vscode": {
   "interpreter": {
    "hash": "dde05fcdc9087a33fb6ecd4f9970984a121972d8d396e1930faf06a8c47e842a"
   }
  }
 },
 "nbformat": 4,
 "nbformat_minor": 2
}
