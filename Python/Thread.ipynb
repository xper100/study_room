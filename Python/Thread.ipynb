{
 "cells": [
  {
   "cell_type": "markdown",
   "metadata": {},
   "source": [
    "# 스레드(Thread) 활용\n",
    "\n",
    "파이썬에서는 기본 모듈로는 thread와 threading 모듈이 있으나, threading 모듈을 더 자주 사용"
   ]
  },
  {
   "cell_type": "markdown",
   "metadata": {},
   "source": [
    "## threading 모듈 사용하기"
   ]
  },
  {
   "cell_type": "code",
   "execution_count": null,
   "metadata": {},
   "outputs": [],
   "source": [
    "import threading\n",
    "import time\n",
    "class Worker(threading.Thread):\n",
    "    def __init__(self, name):\n",
    "        super().__init__()\n",
    "        self.name = name # thread 이름 지정\n",
    "    \n",
    "    def run(self):\n",
    "        print('sub thread start ', threading.currentThread().getName())\n",
    "        time.sleep(3)\n",
    "        print('sub thread end ', threading.currentThread().getName())\n",
    "\n",
    "print('main thread start')\n",
    "for i in range(5):\n",
    "    name = 'thread {}'.format(i)\n",
    "    t = Worker(name)    # sub thread 생성\n",
    "    t.start()           # sub thread의 run 메서드를 호출\n",
    "\n",
    "print('main thread end')"
   ]
  },
  {
   "cell_type": "markdown",
   "metadata": {},
   "source": [
    "## Fork와 join()\n",
    "\n",
    "- Fork : 메인 스레드가 서브 스레드를 생성하는 것을 의미\n",
    "- join() : 모든 스레드가 작업을 마칠 때까지 기다리라는 것을 의미\n",
    "\n",
    "\n",
    "join()으로 인해 서브 스레드가 전부 실행되기까지 메인 스레드가 기다리고 모든 결과물을 취합하여 메인 스레드가 종료"
   ]
  },
  {
   "cell_type": "code",
   "execution_count": 1,
   "metadata": {},
   "outputs": [
    {
     "name": "stdout",
     "output_type": "stream",
     "text": [
      "main thread start\n",
      "sub thread start  1\n",
      "sub thread start  2\n",
      "sub thread end  1\n",
      "sub thread end  2\n"
     ]
    }
   ],
   "source": [
    "import threading\n",
    "import time\n",
    "class Worker(threading.Thread):\n",
    "    def __init__(self, name):\n",
    "        super().__init__()\n",
    "        self.name = name    # thread 이름 생성\n",
    "    def run(self):\n",
    "        print('sub thread start ', threading.currentThread().getName())\n",
    "        time.sleep(3)\n",
    "        print('sub thread end ', threading.currentThread().getName())\n",
    "\n",
    "print('main thread start')\n",
    "t1 = Worker(\"1\")    # sub thread 생성\n",
    "t1.start()          # sub thread의 run 메서드를 호출\n",
    "t2 = Worker(\"2\")    # sub thread 생성\n",
    "t2.start()          # sub thread의 run 메서드를 호출\n",
    "t1.join()\n",
    "t2.join()\n",
    "print('main thread post job')\n",
    "print('main thread end')"
   ]
  },
  {
   "cell_type": "markdown",
   "metadata": {},
   "source": [
    "### 반복문을 통해 여러 서브 스레드를 생성해야 하는 경우"
   ]
  },
  {
   "cell_type": "code",
   "execution_count": 2,
   "metadata": {},
   "outputs": [
    {
     "name": "stdout",
     "output_type": "stream",
     "text": [
      "main thread start\n",
      "sub thread start sub thread start  0\n",
      "sub thread start  1\n",
      " 2\n",
      "sub thread end sub thread end sub thread end  0\n",
      "  1\n",
      "2\n",
      "main thread post job\n",
      "main thread end\n"
     ]
    }
   ],
   "source": [
    "import threading\n",
    "import time\n",
    "class Worker(threading.Thread):\n",
    "    def __init__(self, name):\n",
    "        super().__init__()\n",
    "        self.name = name    # thread 이름 생성\n",
    "    def run(self):\n",
    "        print('sub thread start ', threading.currentThread().getName())\n",
    "        time.sleep(3)\n",
    "        print('sub thread end ', threading.currentThread().getName())\n",
    "\n",
    "print('main thread start')\n",
    "\n",
    "threads = []\n",
    "for i in range(3):\n",
    "    thread = Worker(i)\n",
    "    thread.start()      # sub thread의 run 메서드를 호출\n",
    "    threads.append(thread)\n",
    "for thread in threads:\n",
    "    thread.join()\n",
    "print('main thread post job')\n",
    "print('main thread end')\n"
   ]
  },
  {
   "cell_type": "markdown",
   "metadata": {},
   "source": [
    "# 실습\n",
    "\n",
    "- 프로세스 : 하나의 응용어플리케이션 프로그램이 메모리에 로딩이 되어 CPU에 실행된 상태\n",
    "- 스레드 : 하나의 프로세스 내에서 작업 단위를 의미, 1~n개까지 만들수가 있다.\n",
    "    - 메인스레드 : 파이썬 인터프리터가 제일 먼저 시작하는 부분\n",
    "    - 서브(작업)스레드를 만들어서 병렬로 코드를 실행할 수 있다.\n",
    "    - 메인스레드가 작업스레드보다 먼저 종료되더라도, 작업스레드가 실행중이라면 프로세스는 종료되지 않는다.\n",
    "\n",
    "## 스레드 실습 1"
   ]
  },
  {
   "cell_type": "code",
   "execution_count": 3,
   "metadata": {},
   "outputs": [
    {
     "name": "stdout",
     "output_type": "stream",
     "text": [
      "메인스레드 시작\n",
      "sub thread start  스레드 0\n",
      "sub thread start  스레드 1\n",
      "sub thread start  스레드 2\n",
      "sub thread start sub thread start  스레드 4\n",
      " 스레드 3\n",
      "메인스레드 종료\n"
     ]
    },
    {
     "name": "stdout",
     "output_type": "stream",
     "text": [
      "sub thread end sub thread end sub thread end sub thread end sub thread end  스레드 4\n",
      "  스레드 1\n",
      " 스레드 0\n",
      "스레드 2\n",
      " 스레드 3\n"
     ]
    }
   ],
   "source": [
    "import threading\n",
    "import time\n",
    "\n",
    "# 스레드 클래스 정의\n",
    "## 스레드가 되기 위해서는 threading.Thread 클래스를 상속받아야 한다.\n",
    "class Workder(threading.Thread):\n",
    "    # 생성자\n",
    "    def __init__(self, name):\n",
    "        super().__init__()      # 조상클래스 생성자 호출\n",
    "        self.name = name        # 스레드 이름\n",
    "\n",
    "    def run(self):\n",
    "        print('작업스레드 시작 : ', threading.currentThread().getName())\n",
    "        time.sleep(3)           # 3초간 스레드 일시정지\n",
    "        print('작업스레드 종료 : ', threading.currentThread().getName())\n",
    "\n",
    "\n",
    "if __name__ == '__main__':\n",
    "    print('메인스레드 시작')\n",
    "    for i in range(5):\n",
    "        name = '스레드 {}'.format(i)\n",
    "        t = Worker(name)        # 작업 스레드 생성\n",
    "        t.start()               # 작업 스레드에 구현되어 있는 run()메소드 자동호출\n",
    "    print('메인스레드 종료')     "
   ]
  },
  {
   "cell_type": "markdown",
   "metadata": {},
   "source": [
    "## 스레드 실습 2\n",
    "\n",
    "- join()메소드 : 모든 서브(작업)스레드가 작업을 마칠 때까지 기다리는 것\n",
    "\n",
    "보통 데이터를 여러 스레드를 통해서 병렬로 처리한 후 그 값들을 모아서 순차적으로 처리해야할 필요성이 있을 때 분할한 데이터가 모든 스레드에서 처리될때까지 기다린 후 메인 스레드가 추후 작업수행 "
   ]
  },
  {
   "cell_type": "code",
   "execution_count": 6,
   "metadata": {},
   "outputs": [
    {
     "name": "stdout",
     "output_type": "stream",
     "text": [
      "메인스레드 시작\n",
      "작업스레드 시작 :  1\n",
      "sub thread start  2\n",
      "sub thread end  2\n",
      "작업스레드 종료 :  1\n",
      "메인스레드 종료\n"
     ]
    }
   ],
   "source": [
    "import threading\n",
    "import time\n",
    "\n",
    "# 스레드 클래스 정의\n",
    "## 스레드가 되기 위해서는 threading.Thread 클래스를 상속받아야 한다.\n",
    "class Workder(threading.Thread):\n",
    "    # 생성자\n",
    "    def __init__(self, name):\n",
    "        super().__init__()      # 조상클래스 생성자 호출\n",
    "        self.name = name        # 스레드 이름\n",
    "\n",
    "    def run(self):\n",
    "        print('작업스레드 시작 : ', threading.currentThread().getName())\n",
    "        time.sleep(5)           # 3초간 스레드 일시정지\n",
    "        print('작업스레드 종료 : ', threading.currentThread().getName())\n",
    "\n",
    "\n",
    "if __name__ == '__main__':\n",
    "    print('메인스레드 시작')\n",
    "    t1 = Workder(\"1\")\n",
    "    t1.start()\n",
    "    t2 = Worker('2')\n",
    "    t2.start()\n",
    "\n",
    "    # 작업스레드가 join()를 호출하는 지점에서 메인스레드가 기다린다.\n",
    "    t1.join()       # t1 스레드가 종료될때까지 대기\n",
    "    t2.join()       # t2 스레드가 종료될때까지 대기\n",
    "    \n",
    "    print('메인스레드 종료')     "
   ]
  },
  {
   "cell_type": "markdown",
   "metadata": {},
   "source": [
    "## 윈도우의 beep음 작용 방식 탐구"
   ]
  },
  {
   "cell_type": "code",
   "execution_count": 7,
   "metadata": {},
   "outputs": [
    {
     "ename": "ModuleNotFoundError",
     "evalue": "No module named 'winsound'",
     "output_type": "error",
     "traceback": [
      "\u001b[0;31m---------------------------------------------------------------------------\u001b[0m",
      "\u001b[0;31mModuleNotFoundError\u001b[0m                       Traceback (most recent call last)",
      "\u001b[0;32m/var/folders/4s/mdcm3tk115gg487lsv_xvr_w0000gn/T/ipykernel_45733/3256687183.py\u001b[0m in \u001b[0;36m<module>\u001b[0;34m\u001b[0m\n\u001b[0;32m----> 1\u001b[0;31m \u001b[0;32mimport\u001b[0m \u001b[0mwinsound\u001b[0m\u001b[0;34m\u001b[0m\u001b[0;34m\u001b[0m\u001b[0m\n\u001b[0m\u001b[1;32m      2\u001b[0m \u001b[0;32mimport\u001b[0m \u001b[0mtime\u001b[0m\u001b[0;34m\u001b[0m\u001b[0;34m\u001b[0m\u001b[0m\n\u001b[1;32m      3\u001b[0m \u001b[0;34m\u001b[0m\u001b[0m\n\u001b[1;32m      4\u001b[0m \u001b[0mfr\u001b[0m \u001b[0;34m=\u001b[0m \u001b[0;36m2000\u001b[0m \u001b[0;31m# 주파수 (범위: 37~32767)\u001b[0m\u001b[0;34m\u001b[0m\u001b[0;34m\u001b[0m\u001b[0m\n\u001b[1;32m      5\u001b[0m \u001b[0mdu\u001b[0m \u001b[0;34m=\u001b[0m \u001b[0;36m1000\u001b[0m \u001b[0;31m# 1000ms -> 1s\u001b[0m\u001b[0;34m\u001b[0m\u001b[0;34m\u001b[0m\u001b[0m\n",
      "\u001b[0;31mModuleNotFoundError\u001b[0m: No module named 'winsound'"
     ]
    }
   ],
   "source": [
    "# 예시\n",
    "import winsound\n",
    "import time\n",
    "\n",
    "fr = 2000 # 주파수 (범위: 37~32767)\n",
    "du = 1000 # 1000ms -> 1s\n",
    "\n",
    "for i in range(3):\n",
    "    winsound.Beep(fr, du)"
   ]
  },
  {
   "cell_type": "markdown",
   "metadata": {},
   "source": [
    "### 싱글스레드 환경"
   ]
  },
  {
   "cell_type": "code",
   "execution_count": null,
   "metadata": {},
   "outputs": [],
   "source": [
    "fr = 2000 # 주파수 (범위: 37~32767)\n",
    "du = 1000 # 1000ms -> 1s\n",
    "\n",
    "for i in range(3):\n",
    "    print('현재 실행중인 스레드명(1번째 for 문) : ', threading.currentThread().getName())\n",
    "    winsound.Beep(fr, du)\n",
    "    time.sleep(1)\n",
    "\n",
    "for i in range(3):\n",
    "    print('현재 실행중인 스레드명(2번째 for 문) : ', threading.currentThread().getName())\n",
    "    print(\"삐~~~~\")\n",
    "    time.sleep(1)"
   ]
  },
  {
   "cell_type": "markdown",
   "metadata": {},
   "source": [
    "### 문제1\n",
    "\n",
    "소리가 나면서 문자가 같이 나올 수 있도록 멀티 스레드 환경을 구축해보시오."
   ]
  },
  {
   "cell_type": "code",
   "execution_count": 2,
   "metadata": {},
   "outputs": [
    {
     "ename": "ModuleNotFoundError",
     "evalue": "No module named 'winsound'",
     "output_type": "error",
     "traceback": [
      "\u001b[0;31m---------------------------------------------------------------------------\u001b[0m",
      "\u001b[0;31mModuleNotFoundError\u001b[0m                       Traceback (most recent call last)",
      "\u001b[0;32m/var/folders/4s/mdcm3tk115gg487lsv_xvr_w0000gn/T/ipykernel_48846/876102242.py\u001b[0m in \u001b[0;36m<module>\u001b[0;34m\u001b[0m\n\u001b[1;32m      1\u001b[0m \u001b[0;32mimport\u001b[0m \u001b[0mthreading\u001b[0m\u001b[0;34m\u001b[0m\u001b[0;34m\u001b[0m\u001b[0m\n\u001b[0;32m----> 2\u001b[0;31m \u001b[0;32mimport\u001b[0m \u001b[0mwinsound\u001b[0m\u001b[0;34m\u001b[0m\u001b[0;34m\u001b[0m\u001b[0m\n\u001b[0m\u001b[1;32m      3\u001b[0m \u001b[0;32mimport\u001b[0m \u001b[0mtime\u001b[0m\u001b[0;34m\u001b[0m\u001b[0;34m\u001b[0m\u001b[0m\n\u001b[1;32m      4\u001b[0m \u001b[0;34m\u001b[0m\u001b[0m\n\u001b[1;32m      5\u001b[0m \u001b[0;32mclass\u001b[0m \u001b[0mBeepThread\u001b[0m\u001b[0;34m(\u001b[0m\u001b[0mthreading\u001b[0m\u001b[0;34m.\u001b[0m\u001b[0mThread\u001b[0m\u001b[0;34m)\u001b[0m\u001b[0;34m:\u001b[0m\u001b[0;34m\u001b[0m\u001b[0;34m\u001b[0m\u001b[0m\n",
      "\u001b[0;31mModuleNotFoundError\u001b[0m: No module named 'winsound'"
     ]
    }
   ],
   "source": [
    "import threading\n",
    "import winsound\n",
    "import time\n",
    "\n",
    "class BeepThread(threading.Thread):\n",
    "    def __init__(self, name):\n",
    "        super().__init__()\n",
    "        self.name = name\n",
    "    def run(self):\n",
    "        print(threading.currentThread().getName())\n",
    "        for i in range(3):\n",
    "            fr = 2000 # 주파수 (범위: 37~32767)\n",
    "            du = 1000 # 1000ms -> 1s       \n",
    "            winsound.Beep(fr, du)\n",
    "            time.sleep(1)\n",
    "    \n",
    "if __name__ == '__main__':\n",
    "    thread = BeepThread('비프 스레드')\n",
    "    thread.start()      # run() 자동 호출\n",
    "    print(threading.currentThread().getName())\n",
    "    # \"삐~~\" 문자열 출력\n",
    "    for i in range(3):  # 서브 스레드가 동시에 출력 (병렬성)\n",
    "        print('삐~~~')\n",
    "        time.sleep(2)\n",
    "    # 위와 같이 두개의 스레드로 병렬성과 동시성을 이용하여 \n",
    "    # \"삐~~\"라는 문자열과 비프음을 동시에 출력이 가능하다.\n",
    "\n",
    "    # 스레드는 재사용이 안된다!. 만약 재사용을 하고자 한다면, 스레드 인스턴스를 생성해서 start()호출\n",
    "    thread1 = BeepThread('비프 스레드-2')\n",
    "    thread1.start()"
   ]
  },
  {
   "cell_type": "markdown",
   "metadata": {},
   "source": [
    "# 데몬 스레드\n",
    "\n",
    "- 데몬(daemon) 스레드는 메인 스레드가 종료될 때 자신의 실행 상태와 상관없이 종료되는 서브 스레드를 의미한다. (종속성 스레드)\n",
    "\n",
    "앞서 threading 모듈을 사용해서 메인 스레드가 서브 스레드를 생성하는 경우, 메인 스레드는 서브 스레드가 모두 종료될 때까지 기다리지 않고 종료되게 된다. \n",
    "\n",
    "하지만, 메인 스레드가 종료되면 모두 서브 스레드가 동작 여부와 상관없이 종료되어야 하는 경우가 많다.\n",
    "    ex) 네이버 메일 자동저장, 파이썬 인터프리터\n",
    "이때 서브 스레드들은 데몬 스레드로 만들어져서 사용해야 한다."
   ]
  },
  {
   "cell_type": "code",
   "execution_count": null,
   "metadata": {},
   "outputs": [],
   "source": [
    "import threading\n",
    "import time\n",
    "\n",
    "# 스레드 클래스 정의\n",
    "## 스레드가 되기 위해서는 threading.Thread 클래스를 상속받아야 한다.\n",
    "class Workder(threading.Thread):\n",
    "    # 생성자\n",
    "    def __init__(self, name):\n",
    "        super().__init__()      # 조상클래스 생성자 호출\n",
    "        self.name = name        # 스레드 이름\n",
    "\n",
    "    def run(self):\n",
    "        print('작업스레드 시작 : ', threading.currentThread().getName())\n",
    "        time.sleep(3)           # 3초간 스레드 일시정지\n",
    "        print('작업스레드 종료 : ', threading.currentThread().getName())\n",
    "\n",
    "\n",
    "if __name__ == '__main__':\n",
    "    print('메인스레드 시작')\n",
    "    for i in range(5):\n",
    "        name = '스레드 {}'.format(i)\n",
    "        t = Worker(name)        # 작업 스레드 생성\n",
    "        t.daemon = True         # [추가] 작업스레드를 데몬으로 설정\n",
    "        t.start()               # 작업 스레드에 구현되어 있는 run()메소드 자동호출\n",
    "    print('메인스레드 종료')     "
   ]
  },
  {
   "cell_type": "markdown",
   "metadata": {},
   "source": [
    "## 동시성과 병렬성\n",
    "\n",
    "1. 동시성(concurrency)이란?\n",
    "- 알고리즘 개선이 어려운 경우 동시성과 병렬성을 통해 성능 향상 가능\n",
    "- 동시성이란 흔히 말하는 멀티 태스킹이다. \n",
    "\n",
    "\n",
    "2. 병렬성(parallelism)이란?\n",
    "- 동시에 여러 개의 일을 처리하는 것\n",
    "- 멀티코어가 하나씩 스레드를 받아 독립적으로 진행"
   ]
  },
  {
   "cell_type": "markdown",
   "metadata": {},
   "source": [
    "## 스레드 동기화\n",
    "\n",
    "1. 스레드의 문제점\n",
    "- Thread"
   ]
  },
  {
   "cell_type": "code",
   "execution_count": null,
   "metadata": {},
   "outputs": [],
   "source": []
  }
 ],
 "metadata": {
  "kernelspec": {
   "display_name": "Python 3.9.7 ('kagglestudy')",
   "language": "python",
   "name": "python3"
  },
  "language_info": {
   "codemirror_mode": {
    "name": "ipython",
    "version": 3
   },
   "file_extension": ".py",
   "mimetype": "text/x-python",
   "name": "python",
   "nbconvert_exporter": "python",
   "pygments_lexer": "ipython3",
   "version": "3.9.7"
  },
  "orig_nbformat": 4,
  "vscode": {
   "interpreter": {
    "hash": "dde05fcdc9087a33fb6ecd4f9970984a121972d8d396e1930faf06a8c47e842a"
   }
  }
 },
 "nbformat": 4,
 "nbformat_minor": 2
}
