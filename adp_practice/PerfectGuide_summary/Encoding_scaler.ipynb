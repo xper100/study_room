{
 "cells": [
  {
   "cell_type": "markdown",
   "metadata": {},
   "source": [
    "# Model Selection \n",
    "\n",
    "### 학습/테스트 데이터세트 분리 - train_test_split()"
   ]
  },
  {
   "cell_type": "code",
   "execution_count": 2,
   "metadata": {},
   "outputs": [],
   "source": [
    "from sklearn.datasets import load_iris\n",
    "from sklearn.tree import DecisionTreeClassifier\n",
    "from sklearn.model_selection import train_test_split\n",
    "from sklearn.metrics import accuracy_score\n",
    "import pandas as pd\n",
    "import numpy as np\n",
    "\n",
    "# 데이터 호출\n",
    "iris = load_iris()\n",
    "\n",
    "## 넘파이 ndarray 활용\n",
    "### 학습/테스트 분리 (8:2 비율)\n",
    "X_train, X_test, y_train, y_test = train_test_split(iris.data, iris.target, \n",
    "                                                    test_size = 0.2,\n",
    "                                                    random_state = 1214)\n",
    "\n",
    "\n",
    "## Pandas DataFrame/Series 활용\n",
    "### DataFrame화 진행\n",
    "iris_df = pd.DataFrame(iris.data, columns=iris.feature_names)\n",
    "iris_df['target'] = iris.target\n",
    "### 학습/테스트 분리 (8:2 비율)\n",
    "X_train, X_test, y_train, y_test = train_test_split(iris_df.iloc[:,:-1], iris_df.iloc[:,-1], \n",
    "                                                    test_size = 0.2, random_state = 1214)\n"
   ]
  },
  {
   "cell_type": "markdown",
   "metadata": {},
   "source": [
    "# 교차검증\n",
    "\n",
    "## K-Fold"
   ]
  },
  {
   "cell_type": "code",
   "execution_count": 6,
   "metadata": {},
   "outputs": [
    {
     "name": "stdout",
     "output_type": "stream",
     "text": [
      "평균 정확도 :  0.9066599999999999\n"
     ]
    }
   ],
   "source": [
    "from sklearn.model_selection import KFold\n",
    "import numpy as np\n",
    "\n",
    "# 5개의 fold를 생성하기\n",
    "kfold = KFold(n_splits = 5)\n",
    "\n",
    "# 모델 호출\n",
    "Decisiontree_model = DecisionTreeClassifier()\n",
    "\n",
    "\n",
    "# 교차검증 진행\n",
    "## feature vs target 나누기\n",
    "iris = load_iris()\n",
    "features = iris.data\n",
    "target = iris.target\n",
    "\n",
    "accuracy_list = []\n",
    "for train_index, test_index in kfold.split(features):\n",
    "    X_train, X_test = features[train_index], features[test_index]\n",
    "    y_train, y_test = target[train_index], target[test_index]\n",
    "\n",
    "    # 학습 \n",
    "    Decisiontree_model.fit(X_train, y_train)\n",
    "    prediction_value = Decisiontree_model.predict(X_test)\n",
    "    \n",
    "\n",
    "    # 정확도 측정\n",
    "    accuracy = np.round(accuracy_score(y_test, prediction_value), 4)\n",
    "    accuracy_list.append(accuracy)\n",
    "\n",
    "print('평균 정확도 : ', np.mean(accuracy_list))"
   ]
  },
  {
   "cell_type": "markdown",
   "metadata": {},
   "source": [
    "## StratifiedKFold\n",
    "\n",
    "Imbalance 문제를 해결하여 진행할 수 있는 방법\n"
   ]
  },
  {
   "cell_type": "code",
   "execution_count": 8,
   "metadata": {},
   "outputs": [
    {
     "name": "stdout",
     "output_type": "stream",
     "text": [
      "평균 정확도 :  0.93334\n"
     ]
    }
   ],
   "source": [
    "from sklearn.model_selection import StratifiedKFold\n",
    "\n",
    "stratified = StratifiedKFold(n_splits = 5)\n",
    "\n",
    "for train_index, test_index in stratified.split(features, target):\n",
    "    X_train, X_test = features[train_index], features[test_index]\n",
    "    y_train, y_test = target[train_index], target[test_index]\n",
    "\n",
    "    # 학습 \n",
    "    Decisiontree_model.fit(X_train, y_train)\n",
    "    prediction_value = Decisiontree_model.predict(X_test)\n",
    "    \n",
    "\n",
    "    # 정확도 측정\n",
    "    accuracy = np.round(accuracy_score(y_test, prediction_value), 4)\n",
    "    accuracy_list.append(accuracy)\n",
    "print('평균 정확도 : ', np.mean(accuracy_list))"
   ]
  },
  {
   "cell_type": "markdown",
   "metadata": {},
   "source": [
    "# 교차검증 정확도 \n",
    "\n",
    "## cross_val_score()"
   ]
  },
  {
   "cell_type": "code",
   "execution_count": 10,
   "metadata": {},
   "outputs": [
    {
     "name": "stdout",
     "output_type": "stream",
     "text": [
      "[0.96666667 0.96666667 0.9        1.         1.        ]\n",
      "평균 교차검증 정확도 :  0.9666666666666668\n"
     ]
    }
   ],
   "source": [
    "from sklearn.model_selection import cross_val_score\n",
    "\n",
    "scores = cross_val_score(Decisiontree_model, features, target, scoring = 'accuracy', cv = 5)\n",
    "print(scores)\n",
    "print('평균 교차검증 정확도 : ', np.mean(scores))"
   ]
  },
  {
   "cell_type": "markdown",
   "metadata": {},
   "source": [
    "## GridSearchCV"
   ]
  },
  {
   "cell_type": "code",
   "execution_count": 16,
   "metadata": {},
   "outputs": [
    {
     "data": {
      "text/html": [
       "<div>\n",
       "<style scoped>\n",
       "    .dataframe tbody tr th:only-of-type {\n",
       "        vertical-align: middle;\n",
       "    }\n",
       "\n",
       "    .dataframe tbody tr th {\n",
       "        vertical-align: top;\n",
       "    }\n",
       "\n",
       "    .dataframe thead th {\n",
       "        text-align: right;\n",
       "    }\n",
       "</style>\n",
       "<table border=\"1\" class=\"dataframe\">\n",
       "  <thead>\n",
       "    <tr style=\"text-align: right;\">\n",
       "      <th></th>\n",
       "      <th>params</th>\n",
       "      <th>mean_test_score</th>\n",
       "      <th>rank_test_score</th>\n",
       "      <th>split0_test_score</th>\n",
       "      <th>split1_test_score</th>\n",
       "      <th>split2_test_score</th>\n",
       "      <th>split3_test_score</th>\n",
       "      <th>split4_test_score</th>\n",
       "    </tr>\n",
       "  </thead>\n",
       "  <tbody>\n",
       "    <tr>\n",
       "      <th>0</th>\n",
       "      <td>{'max_depth': 1, 'min_samples_split': 2}</td>\n",
       "      <td>0.675000</td>\n",
       "      <td>5</td>\n",
       "      <td>0.708333</td>\n",
       "      <td>0.666667</td>\n",
       "      <td>0.666667</td>\n",
       "      <td>0.666667</td>\n",
       "      <td>0.666667</td>\n",
       "    </tr>\n",
       "    <tr>\n",
       "      <th>1</th>\n",
       "      <td>{'max_depth': 1, 'min_samples_split': 3}</td>\n",
       "      <td>0.675000</td>\n",
       "      <td>5</td>\n",
       "      <td>0.708333</td>\n",
       "      <td>0.666667</td>\n",
       "      <td>0.666667</td>\n",
       "      <td>0.666667</td>\n",
       "      <td>0.666667</td>\n",
       "    </tr>\n",
       "    <tr>\n",
       "      <th>2</th>\n",
       "      <td>{'max_depth': 2, 'min_samples_split': 2}</td>\n",
       "      <td>0.925000</td>\n",
       "      <td>3</td>\n",
       "      <td>0.958333</td>\n",
       "      <td>0.958333</td>\n",
       "      <td>0.791667</td>\n",
       "      <td>0.958333</td>\n",
       "      <td>0.958333</td>\n",
       "    </tr>\n",
       "    <tr>\n",
       "      <th>3</th>\n",
       "      <td>{'max_depth': 2, 'min_samples_split': 3}</td>\n",
       "      <td>0.925000</td>\n",
       "      <td>3</td>\n",
       "      <td>0.958333</td>\n",
       "      <td>0.958333</td>\n",
       "      <td>0.791667</td>\n",
       "      <td>0.958333</td>\n",
       "      <td>0.958333</td>\n",
       "    </tr>\n",
       "    <tr>\n",
       "      <th>4</th>\n",
       "      <td>{'max_depth': 3, 'min_samples_split': 2}</td>\n",
       "      <td>0.941667</td>\n",
       "      <td>1</td>\n",
       "      <td>1.000000</td>\n",
       "      <td>1.000000</td>\n",
       "      <td>0.833333</td>\n",
       "      <td>0.916667</td>\n",
       "      <td>0.958333</td>\n",
       "    </tr>\n",
       "    <tr>\n",
       "      <th>5</th>\n",
       "      <td>{'max_depth': 3, 'min_samples_split': 3}</td>\n",
       "      <td>0.941667</td>\n",
       "      <td>1</td>\n",
       "      <td>1.000000</td>\n",
       "      <td>1.000000</td>\n",
       "      <td>0.833333</td>\n",
       "      <td>0.916667</td>\n",
       "      <td>0.958333</td>\n",
       "    </tr>\n",
       "  </tbody>\n",
       "</table>\n",
       "</div>"
      ],
      "text/plain": [
       "                                     params  mean_test_score  rank_test_score  \\\n",
       "0  {'max_depth': 1, 'min_samples_split': 2}         0.675000                5   \n",
       "1  {'max_depth': 1, 'min_samples_split': 3}         0.675000                5   \n",
       "2  {'max_depth': 2, 'min_samples_split': 2}         0.925000                3   \n",
       "3  {'max_depth': 2, 'min_samples_split': 3}         0.925000                3   \n",
       "4  {'max_depth': 3, 'min_samples_split': 2}         0.941667                1   \n",
       "5  {'max_depth': 3, 'min_samples_split': 3}         0.941667                1   \n",
       "\n",
       "   split0_test_score  split1_test_score  split2_test_score  split3_test_score  \\\n",
       "0           0.708333           0.666667           0.666667           0.666667   \n",
       "1           0.708333           0.666667           0.666667           0.666667   \n",
       "2           0.958333           0.958333           0.791667           0.958333   \n",
       "3           0.958333           0.958333           0.791667           0.958333   \n",
       "4           1.000000           1.000000           0.833333           0.916667   \n",
       "5           1.000000           1.000000           0.833333           0.916667   \n",
       "\n",
       "   split4_test_score  \n",
       "0           0.666667  \n",
       "1           0.666667  \n",
       "2           0.958333  \n",
       "3           0.958333  \n",
       "4           0.958333  \n",
       "5           0.958333  "
      ]
     },
     "execution_count": 16,
     "metadata": {},
     "output_type": "execute_result"
    }
   ],
   "source": [
    "from sklearn.model_selection import GridSearchCV, train_test_split\n",
    "from sklearn.metrics import accuracy_score\n",
    "from sklearn.tree import DecisionTreeClassifier\n",
    "iris = load_iris()\n",
    "X_train, X_test, y_train, y_test = train_test_split(iris.data, iris.target, \n",
    "                                                    test_size = 0.2, random_state = 1214)\n",
    " \n",
    "# 모델 호출\n",
    "Decisiontree_model = DecisionTreeClassifier()\n",
    "\n",
    "# 탐색할 파라미터값 설정\n",
    "parameters = {'max_depth' : [1,2,3], 'min_samples_split' : [2,3]}\n",
    "\n",
    "# GridSearchCV를 활용하여 최적의 파라미터값 도출\n",
    "## refit = True는 default --> 가장 좋은 파라미터 재학습 수행\n",
    "cv_num = 5\n",
    "grid_decisiontree = GridSearchCV(Decisiontree_model, param_grid=parameters, cv = cv_num, refit = True, return_train_score = True)\n",
    "\n",
    "# 순차적으로 학습 및 평가\n",
    "grid_decisiontree.fit(X_train, y_train)\n",
    "\n",
    "# GridSearchCV 결과물 저장\n",
    "scores_df = pd.DataFrame(grid_decisiontree.cv_results_)\n",
    "split_test_scores_list = []\n",
    "for i in range(cv_num):\n",
    "    split_test_scores_list.append(f'split{i}_test_score')\n",
    "columns = ['params', 'mean_test_score','rank_test_score'] + split_test_scores_list\n",
    "scores_df[columns]"
   ]
  },
  {
   "cell_type": "code",
   "execution_count": 18,
   "metadata": {},
   "outputs": [
    {
     "name": "stdout",
     "output_type": "stream",
     "text": [
      "GridSearchCV 최적 파라미터 :  {'max_depth': 3, 'min_samples_split': 2}\n",
      "GridSearchCV 최고 정확도 : 0.9417\n",
      "테스트 데이터 세트 정확도: 0.9333\n"
     ]
    }
   ],
   "source": [
    "print('GridSearchCV 최적 파라미터 : ', grid_decisiontree.best_params_)\n",
    "print('GridSearchCV 최고 정확도 : {0:.4f}'.format(grid_decisiontree.best_score_))\n",
    "\n",
    "# 테스트 데이터 세트 정확도\n",
    "pred = grid_decisiontree.predict(X_test)\n",
    "print('테스트 데이터 세트 정확도: {0:.4f}'.format(accuracy_score(y_test, pred)))"
   ]
  },
  {
   "cell_type": "code",
   "execution_count": null,
   "metadata": {},
   "outputs": [],
   "source": []
  }
 ],
 "metadata": {
  "kernelspec": {
   "display_name": "Python 3.9.7 ('kagglestudy')",
   "language": "python",
   "name": "python3"
  },
  "language_info": {
   "codemirror_mode": {
    "name": "ipython",
    "version": 3
   },
   "file_extension": ".py",
   "mimetype": "text/x-python",
   "name": "python",
   "nbconvert_exporter": "python",
   "pygments_lexer": "ipython3",
   "version": "3.9.7"
  },
  "orig_nbformat": 4,
  "vscode": {
   "interpreter": {
    "hash": "dde05fcdc9087a33fb6ecd4f9970984a121972d8d396e1930faf06a8c47e842a"
   }
  }
 },
 "nbformat": 4,
 "nbformat_minor": 2
}
