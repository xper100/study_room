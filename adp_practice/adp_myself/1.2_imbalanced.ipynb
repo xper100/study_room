{
 "cells": [
  {
   "cell_type": "markdown",
   "metadata": {},
   "source": [
    "# 1.2 데이터 불균형\n",
    "\n",
    "## 업샘플링 (SMOTE, Boaderline SMOTE, Adasyn)\n"
   ]
  },
  {
   "cell_type": "markdown",
   "metadata": {},
   "source": [
    "### 데이터셋 생성"
   ]
  },
  {
   "cell_type": "code",
   "execution_count": 7,
   "metadata": {},
   "outputs": [],
   "source": [
    "from collections import Counter\n",
    "from sklearn.datasets import make_classification\n",
    "from imblearn.over_sampling import BorderlineSMOTE\n",
    "\n",
    "X, y = make_classification(n_classes = 2, class_sep = 2, weights = [0.1, 0.9], n_informative = 3, n_redundant=1, flip_y = 0,\n",
    "                            n_features = 20, n_clusters_per_class=1, n_samples = 1000, random_state = 123)\n"
   ]
  },
  {
   "cell_type": "code",
   "execution_count": 13,
   "metadata": {},
   "outputs": [
    {
     "data": {
      "text/html": [
       "<div>\n",
       "<style scoped>\n",
       "    .dataframe tbody tr th:only-of-type {\n",
       "        vertical-align: middle;\n",
       "    }\n",
       "\n",
       "    .dataframe tbody tr th {\n",
       "        vertical-align: top;\n",
       "    }\n",
       "\n",
       "    .dataframe thead th {\n",
       "        text-align: right;\n",
       "    }\n",
       "</style>\n",
       "<table border=\"1\" class=\"dataframe\">\n",
       "  <thead>\n",
       "    <tr style=\"text-align: right;\">\n",
       "      <th></th>\n",
       "      <th>0</th>\n",
       "      <th>1</th>\n",
       "      <th>2</th>\n",
       "      <th>3</th>\n",
       "      <th>4</th>\n",
       "      <th>5</th>\n",
       "      <th>6</th>\n",
       "      <th>7</th>\n",
       "      <th>8</th>\n",
       "      <th>9</th>\n",
       "      <th>...</th>\n",
       "      <th>11</th>\n",
       "      <th>12</th>\n",
       "      <th>13</th>\n",
       "      <th>14</th>\n",
       "      <th>15</th>\n",
       "      <th>16</th>\n",
       "      <th>17</th>\n",
       "      <th>18</th>\n",
       "      <th>19</th>\n",
       "      <th>class</th>\n",
       "    </tr>\n",
       "  </thead>\n",
       "  <tbody>\n",
       "    <tr>\n",
       "      <th>0</th>\n",
       "      <td>1.028368</td>\n",
       "      <td>-0.833351</td>\n",
       "      <td>2.008017</td>\n",
       "      <td>-2.054824</td>\n",
       "      <td>-1.058958</td>\n",
       "      <td>0.000870</td>\n",
       "      <td>0.715136</td>\n",
       "      <td>1.108162</td>\n",
       "      <td>0.180774</td>\n",
       "      <td>-1.703395</td>\n",
       "      <td>...</td>\n",
       "      <td>0.176379</td>\n",
       "      <td>-0.077279</td>\n",
       "      <td>-0.624918</td>\n",
       "      <td>-0.592810</td>\n",
       "      <td>-1.569512</td>\n",
       "      <td>1.766140</td>\n",
       "      <td>-1.439002</td>\n",
       "      <td>-0.851583</td>\n",
       "      <td>-1.056961</td>\n",
       "      <td>1</td>\n",
       "    </tr>\n",
       "    <tr>\n",
       "      <th>1</th>\n",
       "      <td>-0.948006</td>\n",
       "      <td>0.899540</td>\n",
       "      <td>2.073949</td>\n",
       "      <td>-0.241187</td>\n",
       "      <td>0.418379</td>\n",
       "      <td>0.900114</td>\n",
       "      <td>-0.829749</td>\n",
       "      <td>0.700975</td>\n",
       "      <td>-0.768594</td>\n",
       "      <td>-0.869385</td>\n",
       "      <td>...</td>\n",
       "      <td>2.129611</td>\n",
       "      <td>-0.931974</td>\n",
       "      <td>-0.101720</td>\n",
       "      <td>-0.445312</td>\n",
       "      <td>-1.628836</td>\n",
       "      <td>0.025042</td>\n",
       "      <td>0.930134</td>\n",
       "      <td>0.811761</td>\n",
       "      <td>-0.831855</td>\n",
       "      <td>1</td>\n",
       "    </tr>\n",
       "    <tr>\n",
       "      <th>2</th>\n",
       "      <td>1.607323</td>\n",
       "      <td>0.189380</td>\n",
       "      <td>2.042288</td>\n",
       "      <td>0.310414</td>\n",
       "      <td>0.581914</td>\n",
       "      <td>0.314189</td>\n",
       "      <td>1.515464</td>\n",
       "      <td>-0.765339</td>\n",
       "      <td>-0.987970</td>\n",
       "      <td>0.930051</td>\n",
       "      <td>...</td>\n",
       "      <td>-0.503749</td>\n",
       "      <td>-0.425103</td>\n",
       "      <td>0.245680</td>\n",
       "      <td>-0.098194</td>\n",
       "      <td>-2.754477</td>\n",
       "      <td>1.324391</td>\n",
       "      <td>-0.584268</td>\n",
       "      <td>0.783292</td>\n",
       "      <td>-3.692720</td>\n",
       "      <td>1</td>\n",
       "    </tr>\n",
       "    <tr>\n",
       "      <th>3</th>\n",
       "      <td>-0.759240</td>\n",
       "      <td>-0.166984</td>\n",
       "      <td>2.194113</td>\n",
       "      <td>-0.269572</td>\n",
       "      <td>0.539652</td>\n",
       "      <td>-0.604082</td>\n",
       "      <td>0.082591</td>\n",
       "      <td>-1.163324</td>\n",
       "      <td>-0.355386</td>\n",
       "      <td>0.507094</td>\n",
       "      <td>...</td>\n",
       "      <td>0.406347</td>\n",
       "      <td>-0.621168</td>\n",
       "      <td>-1.236460</td>\n",
       "      <td>-0.155795</td>\n",
       "      <td>-2.199876</td>\n",
       "      <td>-1.546607</td>\n",
       "      <td>-1.233934</td>\n",
       "      <td>0.961971</td>\n",
       "      <td>-2.005697</td>\n",
       "      <td>1</td>\n",
       "    </tr>\n",
       "    <tr>\n",
       "      <th>4</th>\n",
       "      <td>0.243432</td>\n",
       "      <td>0.604924</td>\n",
       "      <td>2.315940</td>\n",
       "      <td>-1.020196</td>\n",
       "      <td>1.468722</td>\n",
       "      <td>-1.214363</td>\n",
       "      <td>1.565992</td>\n",
       "      <td>-0.203765</td>\n",
       "      <td>-0.253224</td>\n",
       "      <td>-0.285240</td>\n",
       "      <td>...</td>\n",
       "      <td>-1.918273</td>\n",
       "      <td>-0.774854</td>\n",
       "      <td>-0.397427</td>\n",
       "      <td>1.037227</td>\n",
       "      <td>-2.392618</td>\n",
       "      <td>-1.412563</td>\n",
       "      <td>2.356046</td>\n",
       "      <td>0.373055</td>\n",
       "      <td>-1.571927</td>\n",
       "      <td>1</td>\n",
       "    </tr>\n",
       "  </tbody>\n",
       "</table>\n",
       "<p>5 rows × 21 columns</p>\n",
       "</div>"
      ],
      "text/plain": [
       "          0         1         2         3         4         5         6  \\\n",
       "0  1.028368 -0.833351  2.008017 -2.054824 -1.058958  0.000870  0.715136   \n",
       "1 -0.948006  0.899540  2.073949 -0.241187  0.418379  0.900114 -0.829749   \n",
       "2  1.607323  0.189380  2.042288  0.310414  0.581914  0.314189  1.515464   \n",
       "3 -0.759240 -0.166984  2.194113 -0.269572  0.539652 -0.604082  0.082591   \n",
       "4  0.243432  0.604924  2.315940 -1.020196  1.468722 -1.214363  1.565992   \n",
       "\n",
       "          7         8         9  ...        11        12        13        14  \\\n",
       "0  1.108162  0.180774 -1.703395  ...  0.176379 -0.077279 -0.624918 -0.592810   \n",
       "1  0.700975 -0.768594 -0.869385  ...  2.129611 -0.931974 -0.101720 -0.445312   \n",
       "2 -0.765339 -0.987970  0.930051  ... -0.503749 -0.425103  0.245680 -0.098194   \n",
       "3 -1.163324 -0.355386  0.507094  ...  0.406347 -0.621168 -1.236460 -0.155795   \n",
       "4 -0.203765 -0.253224 -0.285240  ... -1.918273 -0.774854 -0.397427  1.037227   \n",
       "\n",
       "         15        16        17        18        19  class  \n",
       "0 -1.569512  1.766140 -1.439002 -0.851583 -1.056961      1  \n",
       "1 -1.628836  0.025042  0.930134  0.811761 -0.831855      1  \n",
       "2 -2.754477  1.324391 -0.584268  0.783292 -3.692720      1  \n",
       "3 -2.199876 -1.546607 -1.233934  0.961971 -2.005697      1  \n",
       "4 -2.392618 -1.412563  2.356046  0.373055 -1.571927      1  \n",
       "\n",
       "[5 rows x 21 columns]"
      ]
     },
     "execution_count": 13,
     "metadata": {},
     "output_type": "execute_result"
    }
   ],
   "source": [
    "import pandas as pd\n",
    "imbalanced_df = pd.DataFrame(X)\n",
    "imbalanced_df['class'] = y\n",
    "imbalanced_df.head()"
   ]
  },
  {
   "cell_type": "code",
   "execution_count": 15,
   "metadata": {},
   "outputs": [
    {
     "data": {
      "text/plain": [
       "class\n",
       "1    900\n",
       "0    100\n",
       "dtype: int64"
      ]
     },
     "execution_count": 15,
     "metadata": {},
     "output_type": "execute_result"
    }
   ],
   "source": [
    "imbalanced_df.value_counts('class')"
   ]
  },
  {
   "cell_type": "code",
   "execution_count": 19,
   "metadata": {},
   "outputs": [
    {
     "data": {
      "text/plain": [
       "900"
      ]
     },
     "execution_count": 19,
     "metadata": {},
     "output_type": "execute_result"
    }
   ],
   "source": [
    "from sklearn.utils import resample\n",
    "\n",
    "majority_data = imbalanced_df[imbalanced_df['class'] == 1]\n",
    "minority_data = imbalanced_df[imbalanced_df['class'] == 0]\n",
    "\n",
    "# upsampling\n",
    "minority_upsampled = resample(minority_data,\n",
    "                                replace = True, # sample with replacement\n",
    "                                n_samples = len(majority_data), # match number in majority class\n",
    "                                random_state = 123)\n",
    "len(minority_upsampled)"
   ]
  },
  {
   "cell_type": "markdown",
   "metadata": {},
   "source": [
    "## imblearn package 사용"
   ]
  },
  {
   "cell_type": "code",
   "execution_count": 1,
   "metadata": {},
   "outputs": [
    {
     "name": "stdout",
     "output_type": "stream",
     "text": [
      "Collecting imblearn\n",
      "  Using cached imblearn-0.0-py2.py3-none-any.whl (1.9 kB)\n",
      "Collecting imbalanced-learn\n",
      "  Using cached imbalanced_learn-0.9.1-py3-none-any.whl (199 kB)\n",
      "Requirement already satisfied: scipy>=1.3.2 in /Users/xper100/opt/anaconda3/envs/kagglestudy/lib/python3.9/site-packages (from imbalanced-learn->imblearn) (1.7.1)\n",
      "Requirement already satisfied: numpy>=1.17.3 in /Users/xper100/opt/anaconda3/envs/kagglestudy/lib/python3.9/site-packages (from imbalanced-learn->imblearn) (1.21.2)\n",
      "Requirement already satisfied: joblib>=1.0.0 in /Users/xper100/opt/anaconda3/envs/kagglestudy/lib/python3.9/site-packages (from imbalanced-learn->imblearn) (1.1.0)\n",
      "Collecting scikit-learn>=1.1.0\n",
      "  Downloading scikit_learn-1.1.3-cp39-cp39-macosx_10_9_x86_64.whl (8.7 MB)\n",
      "     |████████████████████████████████| 8.7 MB 1.5 MB/s            \n",
      "\u001b[?25hRequirement already satisfied: threadpoolctl>=2.0.0 in /Users/xper100/opt/anaconda3/envs/kagglestudy/lib/python3.9/site-packages (from imbalanced-learn->imblearn) (3.0.0)\n",
      "Installing collected packages: scikit-learn, imbalanced-learn, imblearn\n",
      "  Attempting uninstall: scikit-learn\n",
      "    Found existing installation: scikit-learn 1.0\n",
      "    Uninstalling scikit-learn-1.0:\n",
      "      Successfully uninstalled scikit-learn-1.0\n",
      "Successfully installed imbalanced-learn-0.9.1 imblearn-0.0 scikit-learn-1.1.3\n",
      "Note: you may need to restart the kernel to use updated packages.\n"
     ]
    }
   ],
   "source": [
    "# %pip install imblearn"
   ]
  },
  {
   "cell_type": "code",
   "execution_count": 1,
   "metadata": {},
   "outputs": [],
   "source": [
    "from random import Random\n",
    "import imblearn\n",
    "from imblearn.under_sampling import RandomUnderSampler\n",
    "\n",
    "Random_undersampling = RandomUnderSampler(return_indices = True) # Initialize to return indices of dropped row\n",
    "X_RandUnderSampled, Y_RandUnderSampled, dropped = Random_undersampling(X, y)"
   ]
  },
  {
   "cell_type": "markdown",
   "metadata": {},
   "source": [
    "## 다운샘플링 (Under-sampling)"
   ]
  },
  {
   "cell_type": "code",
   "execution_count": null,
   "metadata": {},
   "outputs": [],
   "source": [
    "# undersampling\n",
    "majority_upsampled = resample(majority_data,\n",
    "                                replace = True, # sample with replacement\n",
    "                                n_samples = len(minority_data), # match number in minority class\n",
    "                                random_state = 123)"
   ]
  },
  {
   "cell_type": "markdown",
   "metadata": {},
   "source": [
    "## imblearn 활용"
   ]
  },
  {
   "cell_type": "code",
   "execution_count": null,
   "metadata": {},
   "outputs": [],
   "source": [
    "from random import Random\n",
    "import imblearn\n",
    "from imblearn.over_sampling import RandomOverSampler\n",
    "\n",
    "Random_oversampling = RandomOverSampler() \n",
    "X_RandUnderSampled, Y_RandUnderSampled, dropped = Random_oversampling.fit_resample(X,y)\n"
   ]
  },
  {
   "cell_type": "markdown",
   "metadata": {},
   "source": [
    "## Under-sampling : Tomek links\n",
    "\n",
    "Tomek links는 거리가 가장 가깝지만 다른 Class를 가진 인자끼리 짝을지어 제거함으로서, Class사이의 공간을 확보하는 방법이다."
   ]
  },
  {
   "cell_type": "code",
   "execution_count": 33,
   "metadata": {},
   "outputs": [
    {
     "name": "stdout",
     "output_type": "stream",
     "text": [
      "Counter({1: 900, 0: 100})\n"
     ]
    }
   ],
   "source": [
    "from imblearn.under_sampling import TomekLinks\n",
    "\n",
    "tomek = TomekLinks(sampling_strategy='auto')\n",
    "X_tomek, y_tomek = tomek.fit_resample(X,y)\n",
    "\n",
    "print(Counter(y_tomek))"
   ]
  },
  {
   "cell_type": "markdown",
   "metadata": {},
   "source": [
    "# Over-sampling : SMOTE\n",
    "\n",
    "SMOTE (Synthetic Minority Oversampling TEchnique)은 존재하는 minority class를 활용하여 새로운 값들을 만들어내는 방법이며 보통 k-nearest neighbors를 사용하여 조합한다."
   ]
  },
  {
   "cell_type": "code",
   "execution_count": 35,
   "metadata": {},
   "outputs": [
    {
     "name": "stdout",
     "output_type": "stream",
     "text": [
      "Counter({1: 900, 0: 900})\n"
     ]
    }
   ],
   "source": [
    "from imblearn.over_sampling import SMOTE\n",
    "\n",
    "smote = SMOTE(sampling_strategy='auto')\n",
    "X_smote, y_smote = smote.fit_resample(X,y)\n",
    "print(Counter(y_smote))"
   ]
  },
  {
   "cell_type": "markdown",
   "metadata": {},
   "source": [
    "## Over-sampling : Borderline SMOTE\n",
    "\n",
    "기존의 SMOTE 기법은 minority class에서 랜덤하게 생성했다면, Borderline-SMOTE기법은 다른 class와의 경계(Borderline)에 있는 샘플들을 늘려 분류하기 더 어려운 부분에 집중했다.\n",
    "\n",
    "출처: Borderline-SMOTE: A New Over-Sampling Method in Imbalanced Data Sets Learning\" (http://sci2s.ugr.es/keel/keel-dataset/pdfs/2005-Han-LNCS.pdf)"
   ]
  },
  {
   "cell_type": "code",
   "execution_count": 6,
   "metadata": {},
   "outputs": [
    {
     "name": "stdout",
     "output_type": "stream",
     "text": [
      "현재 데이터의 크기 Counter({1: 900, 0: 100})\n",
      "Borderline SMOTE 적용 이후 데이터의 크기 Counter({1: 900, 0: 900})\n"
     ]
    }
   ],
   "source": [
    "from collections import Counter\n",
    "from sklearn.datasets import make_classification\n",
    "from imblearn.over_sampling import BorderlineSMOTE\n",
    "\n",
    "X, y = make_classification(n_classes = 2, class_sep = 2, weights = [0.1, 0.9], n_informative = 3, n_redundant=1, flip_y = 0,\n",
    "                            n_features = 20, n_clusters_per_class=1, n_samples = 1000, random_state = 123)\n",
    "\n",
    "print('현재 데이터의 크기 %s' % Counter(y))\n",
    "\n",
    "sm = BorderlineSMOTE(random_state = 123)\n",
    "X_res, y_res = sm.fit_resample(X,y)\n",
    "print('Borderline SMOTE 적용 이후 데이터의 크기 %s' % Counter(y_res))\n",
    "\n"
   ]
  },
  {
   "cell_type": "markdown",
   "metadata": {},
   "source": [
    "## ADASYN(Adaptive Synthetic Sampling Approach for Imbalanced Learning)\n",
    "\n",
    "SMOTE기법과 유사하지만, 소수의 클래스에서 가장 가까운 K개의 데이터 중 무작위로 선택하여 클래스를 만드는 기법이다."
   ]
  },
  {
   "cell_type": "code",
   "execution_count": 37,
   "metadata": {},
   "outputs": [
    {
     "name": "stdout",
     "output_type": "stream",
     "text": [
      "Counter({1: 900, 0: 898})\n"
     ]
    }
   ],
   "source": [
    "from imblearn.over_sampling import ADASYN\n",
    "\n",
    "ada = ADASYN(random_state=123)\n",
    "X_res, y_res = ada.fit_resample(X,y)\n",
    "print(Counter(y_res))"
   ]
  },
  {
   "cell_type": "markdown",
   "metadata": {},
   "source": [
    "# 그 외\n",
    "\n",
    "- 복합샘플링\n",
    "    - SMOTE + ENN\n",
    "    - SMOTE + Tomek"
   ]
  },
  {
   "cell_type": "code",
   "execution_count": null,
   "metadata": {},
   "outputs": [],
   "source": []
  }
 ],
 "metadata": {
  "kernelspec": {
   "display_name": "Python 3.9.7 ('kagglestudy')",
   "language": "python",
   "name": "python3"
  },
  "language_info": {
   "codemirror_mode": {
    "name": "ipython",
    "version": 3
   },
   "file_extension": ".py",
   "mimetype": "text/x-python",
   "name": "python",
   "nbconvert_exporter": "python",
   "pygments_lexer": "ipython3",
   "version": "3.9.7"
  },
  "orig_nbformat": 4,
  "vscode": {
   "interpreter": {
    "hash": "dde05fcdc9087a33fb6ecd4f9970984a121972d8d396e1930faf06a8c47e842a"
   }
  }
 },
 "nbformat": 4,
 "nbformat_minor": 2
}
