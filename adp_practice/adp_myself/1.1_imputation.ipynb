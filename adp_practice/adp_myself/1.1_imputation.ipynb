{
 "cells": [
  {
   "cell_type": "markdown",
   "metadata": {},
   "source": [
    "# 1.1 데이터 전처리\n",
    "## 1.1.1 이상치 확인 및 결측값 처리\n",
    "- 단순대치\n",
    "- 다중 대치\n",
    "- 단순확률 대치 (Hot-deck, nearest neighbor)\n",
    "- knnImputation"
   ]
  },
  {
   "cell_type": "markdown",
   "metadata": {},
   "source": [
    "#### 단순대치\n",
    "- 결측값 제거\n",
    "- Mean /Median 대치 \n",
    "    > SimpleImputer(strategy = 'mean')\n",
    "    \n",
    "    > SimpleImputer(strategy = 'median')\n",
    "- 빈번한 값으로 대치 \n",
    "    > SimpleImputer(strategy = 'most_frequent')\n",
    "- 일정한 값으로 대치 \n",
    "    > SimpleImputer(missing_values = np.nan, strategy = 'constant')"
   ]
  },
  {
   "cell_type": "code",
   "execution_count": 1,
   "metadata": {},
   "outputs": [
    {
     "data": {
      "text/plain": [
       "array([[63.        , 43.        ],\n",
       "       [81.        , 39.66666667],\n",
       "       [76.        , 34.        ]])"
      ]
     },
     "execution_count": 1,
     "metadata": {},
     "output_type": "execute_result"
    }
   ],
   "source": [
    "import numpy as np\n",
    "from sklearn.impute import SimpleImputer\n",
    "\n",
    "# 수치형 데이터 - 평균값으로 대치\n",
    "imp_mean = SimpleImputer(missing_values=np.nan, strategy='mean')\n",
    "\n",
    "## 모듈 훈련\n",
    "train = [[55, 20], [np.nan, 35], [71, 64]]\n",
    "imp_mean.fit(train)\n",
    "\n",
    "# 모듈 변환\n",
    "test = [[np.nan, 43], [81, np.nan], [76, 34]]\n",
    "imp_mean.transform(test)"
   ]
  },
  {
   "cell_type": "code",
   "execution_count": 3,
   "metadata": {},
   "outputs": [
    {
     "data": {
      "text/plain": [
       "array([['X', 'Y'],\n",
       "       ['X', 'X'],\n",
       "       ['Y', 'X']], dtype=object)"
      ]
     },
     "execution_count": 3,
     "metadata": {},
     "output_type": "execute_result"
    }
   ],
   "source": [
    "# 카테고리형 데이터 - 가장 빈번한 값으로 대치\n",
    "imp_freqeunt = SimpleImputer(strategy=\"most_frequent\")\n",
    "\n",
    "## 모듈 훈련\n",
    "train = [['X', 'Y'], [np.nan, 'X'], ['X', 'X']]\n",
    "imp_freqeunt.fit(train)\n",
    "\n",
    "# 모듈 변환\n",
    "test = [[np.nan, 'Y'], ['X', np.nan], ['Y', 'X']]\n",
    "imp_freqeunt.transform(test)"
   ]
  },
  {
   "cell_type": "markdown",
   "metadata": {},
   "source": [
    "### 다중대치\n",
    "> 다중대치에 사용하는 Chained Equation은 데이터가 MAR(Missing at Random) 라는 가정하에 수행 \n",
    "- 단순대치법을 m번 반복하여 m개의 가상적 완전 자료를 만드는 방법\n",
    "    - 1단계 : 대치(Imputation step)\n",
    "    - 2단계 : 분석(Analysis step)\n",
    "    - 3단계 : 결합(Combination step)\n",
    "\n",
    "\n"
   ]
  },
  {
   "cell_type": "code",
   "execution_count": null,
   "metadata": {},
   "outputs": [],
   "source": [
    "# IterativeImputer를 쓰기위해 필요한 라이브러리\n",
    "from sklearn.experimental import enable_iterative_imputer\n",
    "from sklearn.impute import IterativeImputer\n",
    "\n",
    "# 회귀모델 사용\n",
    "from sklearn.linear_model import LinearRegression\n",
    "lr = LinearRegression()\n",
    "\n",
    "# Default = BaysianRidge()\n",
    "imp_multiple = IterativeImputer(estimator = lr,random_state = 123)\n",
    "\n",
    "imp_multiple.fit(train)\n",
    "imp_multiple.transform(test)"
   ]
  },
  {
   "cell_type": "markdown",
   "metadata": {},
   "source": [
    "### knnImputation"
   ]
  },
  {
   "cell_type": "code",
   "execution_count": null,
   "metadata": {},
   "outputs": [],
   "source": [
    "from sklearn.impute import KNNImputer\n",
    "\n",
    "knnimp = KNNImputer(n_neighbors= 3, add_indicator=True)\n",
    "knnimp.fit(train)\n",
    "knnimp.transform(test)"
   ]
  }
 ],
 "metadata": {
  "kernelspec": {
   "display_name": "Python 3.9.7 ('kagglestudy')",
   "language": "python",
   "name": "python3"
  },
  "language_info": {
   "codemirror_mode": {
    "name": "ipython",
    "version": 3
   },
   "file_extension": ".py",
   "mimetype": "text/x-python",
   "name": "python",
   "nbconvert_exporter": "python",
   "pygments_lexer": "ipython3",
   "version": "3.9.7"
  },
  "orig_nbformat": 4,
  "vscode": {
   "interpreter": {
    "hash": "dde05fcdc9087a33fb6ecd4f9970984a121972d8d396e1930faf06a8c47e842a"
   }
  }
 },
 "nbformat": 4,
 "nbformat_minor": 2
}
