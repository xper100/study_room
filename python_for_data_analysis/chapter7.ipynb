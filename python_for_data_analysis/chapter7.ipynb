{
 "cells": [
  {
   "cell_type": "markdown",
   "metadata": {},
   "source": [
    "# Chapter7: 데이터 정제 및 준비"
   ]
  },
  {
   "cell_type": "markdown",
   "metadata": {},
   "source": [
    "## 개별화와 양자화"
   ]
  },
  {
   "cell_type": "code",
   "execution_count": 8,
   "metadata": {},
   "outputs": [
    {
     "data": {
      "text/plain": [
       "['b', 'b', 'a', 'f', 'b', 'd', 'f', 'f', 'c']\n",
       "Categories (6, object): ['a' < 'b' < 'c' < 'd' < 'e' < 'f']"
      ]
     },
     "execution_count": 8,
     "metadata": {},
     "output_type": "execute_result"
    }
   ],
   "source": [
    "import pandas as pd\n",
    "ages = [20,22,16,73,24,43,57,96,34]\n",
    "bins = [0,18,25,35,45,55,100]\n",
    "group_names = ['a','b','c','d','e','f']\n",
    "cats = pd.cut(ages,bins, labels=group_names)\n",
    "cats"
   ]
  },
  {
   "cell_type": "code",
   "execution_count": 6,
   "metadata": {},
   "outputs": [
    {
     "data": {
      "text/plain": [
       "array([1, 1, 0, 5, 1, 3, 5, 5, 2], dtype=int8)"
      ]
     },
     "execution_count": 6,
     "metadata": {},
     "output_type": "execute_result"
    }
   ],
   "source": [
    "cats.codes"
   ]
  },
  {
   "cell_type": "code",
   "execution_count": 7,
   "metadata": {},
   "outputs": [
    {
     "data": {
      "text/plain": [
       "IntervalIndex([(0, 18], (18, 25], (25, 35], (35, 45], (45, 55], (55, 100]], dtype='interval[int64, right]')"
      ]
     },
     "execution_count": 7,
     "metadata": {},
     "output_type": "execute_result"
    }
   ],
   "source": [
    "cats.categories"
   ]
  },
  {
   "cell_type": "code",
   "execution_count": 9,
   "metadata": {},
   "outputs": [
    {
     "data": {
      "text/plain": [
       "[(15.92, 36.0], (15.92, 36.0], (15.92, 36.0], (56.0, 76.0], (15.92, 36.0], (36.0, 56.0], (56.0, 76.0], (76.0, 96.0], (15.92, 36.0]]\n",
       "Categories (4, interval[float64, right]): [(15.92, 36.0] < (36.0, 56.0] < (56.0, 76.0] < (76.0, 96.0]]"
      ]
     },
     "execution_count": 9,
     "metadata": {},
     "output_type": "execute_result"
    }
   ],
   "source": [
    "# 균등하게 4개의 그룹으로 나누기\n",
    "pd.cut(ages,4,precision=2)"
   ]
  },
  {
   "cell_type": "code",
   "execution_count": 11,
   "metadata": {},
   "outputs": [
    {
     "data": {
      "text/plain": [
       "[(15.999, 22.0], (15.999, 22.0], (15.999, 22.0], (57.0, 96.0], (22.0, 34.0], (34.0, 57.0], (34.0, 57.0], (57.0, 96.0], (22.0, 34.0]]\n",
       "Categories (4, interval[float64, right]): [(15.999, 22.0] < (22.0, 34.0] < (34.0, 57.0] < (57.0, 96.0]]"
      ]
     },
     "execution_count": 11,
     "metadata": {},
     "output_type": "execute_result"
    }
   ],
   "source": [
    "# 4분위로 나누기\n",
    "pd.qcut(ages,4)"
   ]
  },
  {
   "cell_type": "markdown",
   "metadata": {},
   "source": [
    "## 특잇값을 찾고 제외하기"
   ]
  },
  {
   "cell_type": "code",
   "execution_count": 17,
   "metadata": {},
   "outputs": [
    {
     "data": {
      "text/plain": [
       "51    -3.424134\n",
       "73    -3.134697\n",
       "185   -3.137214\n",
       "215   -3.809382\n",
       "616    3.460806\n",
       "719   -3.657295\n",
       "792    3.068531\n",
       "829    3.253388\n",
       "Name: 2, dtype: float64"
      ]
     },
     "execution_count": 17,
     "metadata": {},
     "output_type": "execute_result"
    }
   ],
   "source": [
    "import numpy as np\n",
    "data = pd.DataFrame(np.random.randn(1000,4))\n",
    "col = data[2]\n",
    "col[np.abs(col)>3]"
   ]
  },
  {
   "cell_type": "code",
   "execution_count": 20,
   "metadata": {},
   "outputs": [
    {
     "data": {
      "text/html": [
       "<div>\n",
       "<style scoped>\n",
       "    .dataframe tbody tr th:only-of-type {\n",
       "        vertical-align: middle;\n",
       "    }\n",
       "\n",
       "    .dataframe tbody tr th {\n",
       "        vertical-align: top;\n",
       "    }\n",
       "\n",
       "    .dataframe thead th {\n",
       "        text-align: right;\n",
       "    }\n",
       "</style>\n",
       "<table border=\"1\" class=\"dataframe\">\n",
       "  <thead>\n",
       "    <tr style=\"text-align: right;\">\n",
       "      <th></th>\n",
       "      <th>0</th>\n",
       "      <th>1</th>\n",
       "      <th>2</th>\n",
       "      <th>3</th>\n",
       "    </tr>\n",
       "  </thead>\n",
       "  <tbody>\n",
       "    <tr>\n",
       "      <th>51</th>\n",
       "      <td>0.154345</td>\n",
       "      <td>-3.477185</td>\n",
       "      <td>-3.424134</td>\n",
       "      <td>1.432662</td>\n",
       "    </tr>\n",
       "    <tr>\n",
       "      <th>73</th>\n",
       "      <td>1.264108</td>\n",
       "      <td>0.174162</td>\n",
       "      <td>-3.134697</td>\n",
       "      <td>0.412220</td>\n",
       "    </tr>\n",
       "    <tr>\n",
       "      <th>185</th>\n",
       "      <td>-1.541779</td>\n",
       "      <td>2.159260</td>\n",
       "      <td>-3.137214</td>\n",
       "      <td>1.020381</td>\n",
       "    </tr>\n",
       "    <tr>\n",
       "      <th>215</th>\n",
       "      <td>0.118811</td>\n",
       "      <td>-0.937716</td>\n",
       "      <td>-3.809382</td>\n",
       "      <td>-0.674591</td>\n",
       "    </tr>\n",
       "    <tr>\n",
       "      <th>372</th>\n",
       "      <td>0.305441</td>\n",
       "      <td>-3.147057</td>\n",
       "      <td>-0.798374</td>\n",
       "      <td>-1.716523</td>\n",
       "    </tr>\n",
       "    <tr>\n",
       "      <th>502</th>\n",
       "      <td>3.603773</td>\n",
       "      <td>-1.175095</td>\n",
       "      <td>0.063551</td>\n",
       "      <td>0.693222</td>\n",
       "    </tr>\n",
       "    <tr>\n",
       "      <th>616</th>\n",
       "      <td>1.344449</td>\n",
       "      <td>0.292677</td>\n",
       "      <td>3.460806</td>\n",
       "      <td>0.370363</td>\n",
       "    </tr>\n",
       "    <tr>\n",
       "      <th>719</th>\n",
       "      <td>0.162813</td>\n",
       "      <td>0.010889</td>\n",
       "      <td>-3.657295</td>\n",
       "      <td>-0.303034</td>\n",
       "    </tr>\n",
       "    <tr>\n",
       "      <th>792</th>\n",
       "      <td>-0.856603</td>\n",
       "      <td>0.658153</td>\n",
       "      <td>3.068531</td>\n",
       "      <td>0.973433</td>\n",
       "    </tr>\n",
       "    <tr>\n",
       "      <th>829</th>\n",
       "      <td>0.007870</td>\n",
       "      <td>1.084115</td>\n",
       "      <td>3.253388</td>\n",
       "      <td>-0.045163</td>\n",
       "    </tr>\n",
       "    <tr>\n",
       "      <th>920</th>\n",
       "      <td>0.433057</td>\n",
       "      <td>0.644560</td>\n",
       "      <td>-0.079803</td>\n",
       "      <td>3.497208</td>\n",
       "    </tr>\n",
       "    <tr>\n",
       "      <th>938</th>\n",
       "      <td>3.238725</td>\n",
       "      <td>-1.779653</td>\n",
       "      <td>-0.188031</td>\n",
       "      <td>0.169975</td>\n",
       "    </tr>\n",
       "  </tbody>\n",
       "</table>\n",
       "</div>"
      ],
      "text/plain": [
       "            0         1         2         3\n",
       "51   0.154345 -3.477185 -3.424134  1.432662\n",
       "73   1.264108  0.174162 -3.134697  0.412220\n",
       "185 -1.541779  2.159260 -3.137214  1.020381\n",
       "215  0.118811 -0.937716 -3.809382 -0.674591\n",
       "372  0.305441 -3.147057 -0.798374 -1.716523\n",
       "502  3.603773 -1.175095  0.063551  0.693222\n",
       "616  1.344449  0.292677  3.460806  0.370363\n",
       "719  0.162813  0.010889 -3.657295 -0.303034\n",
       "792 -0.856603  0.658153  3.068531  0.973433\n",
       "829  0.007870  1.084115  3.253388 -0.045163\n",
       "920  0.433057  0.644560 -0.079803  3.497208\n",
       "938  3.238725 -1.779653 -0.188031  0.169975"
      ]
     },
     "execution_count": 20,
     "metadata": {},
     "output_type": "execute_result"
    }
   ],
   "source": [
    "data[(np.abs(data) > 3).any(1)]"
   ]
  },
  {
   "cell_type": "code",
   "execution_count": 21,
   "metadata": {},
   "outputs": [],
   "source": [
    "data[np.abs(data)>3] = np.sign(data) * 3"
   ]
  },
  {
   "cell_type": "code",
   "execution_count": 22,
   "metadata": {},
   "outputs": [
    {
     "data": {
      "text/html": [
       "<div>\n",
       "<style scoped>\n",
       "    .dataframe tbody tr th:only-of-type {\n",
       "        vertical-align: middle;\n",
       "    }\n",
       "\n",
       "    .dataframe tbody tr th {\n",
       "        vertical-align: top;\n",
       "    }\n",
       "\n",
       "    .dataframe thead th {\n",
       "        text-align: right;\n",
       "    }\n",
       "</style>\n",
       "<table border=\"1\" class=\"dataframe\">\n",
       "  <thead>\n",
       "    <tr style=\"text-align: right;\">\n",
       "      <th></th>\n",
       "      <th>0</th>\n",
       "      <th>1</th>\n",
       "      <th>2</th>\n",
       "      <th>3</th>\n",
       "    </tr>\n",
       "  </thead>\n",
       "  <tbody>\n",
       "    <tr>\n",
       "      <th>0</th>\n",
       "      <td>1.0</td>\n",
       "      <td>1.0</td>\n",
       "      <td>-1.0</td>\n",
       "      <td>1.0</td>\n",
       "    </tr>\n",
       "    <tr>\n",
       "      <th>1</th>\n",
       "      <td>1.0</td>\n",
       "      <td>-1.0</td>\n",
       "      <td>-1.0</td>\n",
       "      <td>1.0</td>\n",
       "    </tr>\n",
       "    <tr>\n",
       "      <th>2</th>\n",
       "      <td>-1.0</td>\n",
       "      <td>-1.0</td>\n",
       "      <td>-1.0</td>\n",
       "      <td>1.0</td>\n",
       "    </tr>\n",
       "    <tr>\n",
       "      <th>3</th>\n",
       "      <td>-1.0</td>\n",
       "      <td>1.0</td>\n",
       "      <td>-1.0</td>\n",
       "      <td>1.0</td>\n",
       "    </tr>\n",
       "    <tr>\n",
       "      <th>4</th>\n",
       "      <td>-1.0</td>\n",
       "      <td>-1.0</td>\n",
       "      <td>-1.0</td>\n",
       "      <td>-1.0</td>\n",
       "    </tr>\n",
       "  </tbody>\n",
       "</table>\n",
       "</div>"
      ],
      "text/plain": [
       "     0    1    2    3\n",
       "0  1.0  1.0 -1.0  1.0\n",
       "1  1.0 -1.0 -1.0  1.0\n",
       "2 -1.0 -1.0 -1.0  1.0\n",
       "3 -1.0  1.0 -1.0  1.0\n",
       "4 -1.0 -1.0 -1.0 -1.0"
      ]
     },
     "execution_count": 22,
     "metadata": {},
     "output_type": "execute_result"
    }
   ],
   "source": [
    "np.sign(data).head()"
   ]
  },
  {
   "cell_type": "code",
   "execution_count": null,
   "metadata": {},
   "outputs": [],
   "source": []
  }
 ],
 "metadata": {
  "kernelspec": {
   "display_name": "Python 3.9.9 ('orderhero')",
   "language": "python",
   "name": "python3"
  },
  "language_info": {
   "codemirror_mode": {
    "name": "ipython",
    "version": 3
   },
   "file_extension": ".py",
   "mimetype": "text/x-python",
   "name": "python",
   "nbconvert_exporter": "python",
   "pygments_lexer": "ipython3",
   "version": "3.9.9"
  },
  "orig_nbformat": 4,
  "vscode": {
   "interpreter": {
    "hash": "d4dd044a48e2eaa09afae953a138d90271a48306d26a93df7851c866df854e66"
   }
  }
 },
 "nbformat": 4,
 "nbformat_minor": 2
}
