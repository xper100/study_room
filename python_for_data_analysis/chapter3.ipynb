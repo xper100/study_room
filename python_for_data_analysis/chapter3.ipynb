{
 "cells": [
  {
   "cell_type": "markdown",
   "metadata": {},
   "source": [
    "# Chapter 3. 내장 자료구조,함수, 파일"
   ]
  },
  {
   "cell_type": "markdown",
   "metadata": {},
   "source": [
    "## 튜플\n",
    "### 특정 갯수의 인자만 추출하는 경우 (*rest or *_)\n",
    "\n",
    "**설명**: 불필요한 변수를 지칭할 때 사용 (*rest or *_)"
   ]
  },
  {
   "cell_type": "code",
   "execution_count": 3,
   "metadata": {},
   "outputs": [
    {
     "name": "stdout",
     "output_type": "stream",
     "text": [
      "1 2\n",
      "3 4 5\n"
     ]
    }
   ],
   "source": [
    "val = 1,2,3,4,5\n",
    "\n",
    "a, b, *rest = val\n",
    "print(a,b)\n",
    "print(*rest)\n"
   ]
  },
  {
   "cell_type": "code",
   "execution_count": 2,
   "metadata": {},
   "outputs": [
    {
     "name": "stdout",
     "output_type": "stream",
     "text": [
      "1 2\n",
      "3 4 5\n"
     ]
    }
   ],
   "source": [
    "val = 1,2,3,4,5\n",
    "\n",
    "a, b, *_ = val\n",
    "print(a,b)\n",
    "print(*_)"
   ]
  },
  {
   "cell_type": "markdown",
   "metadata": {},
   "source": [
    "## 리스트"
   ]
  },
  {
   "cell_type": "code",
   "execution_count": 14,
   "metadata": {},
   "outputs": [
    {
     "name": "stdout",
     "output_type": "stream",
     "text": [
      "['dfsa', 134, 'ahgh', '그냥 추가']\n",
      "['dfsa', 'ahgh', '그냥 추가']\n",
      "['dfsa', 'ahgh']\n",
      "['dfsa', '2번째에 특정위치 추가', 'ahgh']\n"
     ]
    }
   ],
   "source": [
    "test = ['dfsa', 134, 'ahgh']\n",
    "\n",
    "# 원소 추가하기\n",
    "test.append('그냥 추가')\n",
    "print(test)\n",
    "\n",
    "# 원소 제거하기\n",
    "## 특정 위치 제거\n",
    "test.pop(1)\n",
    "print(test)\n",
    "## 특정 원소 제거\n",
    "test.remove('그냥 추가')\n",
    "print(test)\n",
    "\n",
    "\n",
    "# 원소 특정위치에 추가하기\n",
    "test.insert(1,'2번째에 특정위치 추가')\n",
    "print(test)"
   ]
  },
  {
   "cell_type": "markdown",
   "metadata": {},
   "source": [
    "## 슬라이싱"
   ]
  },
  {
   "cell_type": "code",
   "execution_count": 22,
   "metadata": {},
   "outputs": [
    {
     "name": "stdout",
     "output_type": "stream",
     "text": [
      "기존 리스트 [1, 2, 3, 4, 5, 6, 7, 8, 9, 0]\n",
      "짝수에 위치한 인자만:  [1, 3, 5, 7, 9]\n",
      "역순으로 반환 2번 step을 기준으로 반환 [0, 8, 6, 4, 2]\n"
     ]
    }
   ],
   "source": [
    "test = [1,2,3,4,5,6,7,8,9,0]\n",
    "print('기존 리스트', test)\n",
    "# 짝수에 위치한 인자만 추출\n",
    "print('짝수에 위치한 인자만: ', test[::2])\n",
    "\n",
    "# 역순으로 반환 2번 step을 기준으로 반환\n",
    "print('역순으로 반환 2번 step을 기준으로 반환', test[::-2])"
   ]
  },
  {
   "cell_type": "markdown",
   "metadata": {},
   "source": [
    "## 집합연산"
   ]
  },
  {
   "cell_type": "code",
   "execution_count": 36,
   "metadata": {},
   "outputs": [
    {
     "name": "stdout",
     "output_type": "stream",
     "text": [
      "합집합 {1, 2, 3, 4, 5, 6, 7}\n",
      "합집합 {1, 2, 3, 4, 5, 6, 7}\n",
      "교집합 {3, 4, 5}\n",
      "교집합 {3, 4, 5}\n",
      "차집합 {1, 2}\n",
      "차집합 {1, 2}\n",
      "대칭차집합 {1, 2, 6, 7}\n",
      "대칭차집합 {1, 2, 6, 7}\n",
      "False\n",
      "False\n",
      "False\n"
     ]
    }
   ],
   "source": [
    "a = {1,2,3,4,5}\n",
    "b = {3,4,5,6,7}\n",
    "# 합집합\n",
    "print('합집합', a.union(b))\n",
    "print('합집합', a|b)\n",
    "# 교집합\n",
    "print('교집합', a.intersection(b))\n",
    "print('교집합', a & b)\n",
    "# 차집합\n",
    "print('차집합', a.difference(b))\n",
    "print('차집합', a - b)\n",
    "# 대칭차집합\n",
    "print('대칭차집합', a.symmetric_difference(b))\n",
    "print('대칭차집합', a ^ b)\n",
    "# a가 b의 모두 속할때 \n",
    "print(a.issubset(b))\n",
    "\n",
    "# a가 b의 모든 요소를 포함할때\n",
    "print(a.issuperset(b))\n",
    "\n",
    "# a와 b 모두에 속하는 원소가 없을 경우\n",
    "print(a.isdisjoint(b))"
   ]
  },
  {
   "cell_type": "markdown",
   "metadata": {},
   "source": [
    "## 예외처리"
   ]
  },
  {
   "cell_type": "code",
   "execution_count": 38,
   "metadata": {},
   "outputs": [
    {
     "data": {
      "text/plain": [
       "'Done'"
      ]
     },
     "execution_count": 38,
     "metadata": {},
     "output_type": "execute_result"
    }
   ],
   "source": [
    "def attempt_float(x):\n",
    "    try:\n",
    "        return float(x)\n",
    "    except (TypeError, ValueError): # 여러가지의 에러처리\n",
    "        return x\n",
    "    finally: # 예외처리 상관없이 실행시키고 싶은 코드\n",
    "        return 'Done'\n",
    "attempt_float('안녕')"
   ]
  },
  {
   "cell_type": "code",
   "execution_count": null,
   "metadata": {},
   "outputs": [],
   "source": []
  }
 ],
 "metadata": {
  "kernelspec": {
   "display_name": "Python 3.9.9 ('orderhero')",
   "language": "python",
   "name": "python3"
  },
  "language_info": {
   "codemirror_mode": {
    "name": "ipython",
    "version": 3
   },
   "file_extension": ".py",
   "mimetype": "text/x-python",
   "name": "python",
   "nbconvert_exporter": "python",
   "pygments_lexer": "ipython3",
   "version": "3.9.9"
  },
  "orig_nbformat": 4,
  "vscode": {
   "interpreter": {
    "hash": "d4dd044a48e2eaa09afae953a138d90271a48306d26a93df7851c866df854e66"
   }
  }
 },
 "nbformat": 4,
 "nbformat_minor": 2
}
